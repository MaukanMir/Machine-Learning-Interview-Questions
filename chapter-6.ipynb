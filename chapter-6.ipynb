{
 "cells": [
  {
   "cell_type": "markdown",
   "metadata": {},
   "source": [
    "# Technical Interview: Model Deployment and End-to-End ML"
   ]
  },
  {
   "cell_type": "markdown",
   "metadata": {},
   "source": [
    "### Training data\n",
    "- How would you collect training data and evaluate the risks? (Refer to Chapter 4.)\n",
    "\n",
    "### Feature engineering\n",
    "- How would you come up with relevant features for the ML task? (Refer to Chapter 4.)\n",
    "\n",
    "### Modeling\n",
    "- How do you justify choosing a specific model? Explain the training process, and explain the risks and how you’d mitigate them. (Refer to Chapters 3 and 4.)\n",
    "\n",
    "### Evaluation and deployment\n",
    "- How do you evaluate and deploy the model? How do you justify which metrics to monitor? (Refer to Chapters 4 and 6.)"
   ]
  },
  {
   "cell_type": "markdown",
   "metadata": {},
   "source": []
  }
 ],
 "metadata": {
  "language_info": {
   "name": "python"
  }
 },
 "nbformat": 4,
 "nbformat_minor": 2
}
