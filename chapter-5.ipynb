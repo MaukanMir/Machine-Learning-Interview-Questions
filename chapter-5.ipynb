{
 "cells": [
  {
   "cell_type": "markdown",
   "metadata": {},
   "source": [
    "# Technical Interview: Coding"
   ]
  },
  {
   "cell_type": "markdown",
   "metadata": {},
   "source": [
    "- Array and string manipulation\n",
    "\n",
    "- Sliding window\n",
    "\n",
    "- Two pointers\n",
    "\n",
    "- Fast and slow pointers\n",
    "\n",
    "- Merge intervals\n",
    "\n",
    "- Graph traversal, such as depth first search (DFS) and breadth-first search (BFS)"
   ]
  },
  {
   "cell_type": "markdown",
   "metadata": {},
   "source": []
  }
 ],
 "metadata": {
  "language_info": {
   "name": "python"
  }
 },
 "nbformat": 4,
 "nbformat_minor": 2
}
