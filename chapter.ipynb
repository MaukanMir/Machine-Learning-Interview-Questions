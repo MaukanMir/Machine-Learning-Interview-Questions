{
 "cells": [
  {
   "cell_type": "markdown",
   "metadata": {},
   "source": [
    "# Behavioral Interviews"
   ]
  },
  {
   "cell_type": "markdown",
   "metadata": {},
   "source": [
    "### “Tell me about a time you ran into tough blockers [business speak for situations that cause progress to be blocked] on a project. How did you push past them?”\n",
    "\n",
    "\n",
    "- [Situation] I was working on project Y, which is to create a recommender system for our company’s shopping website.\n",
    "\n",
    "- [Task] I was responsible for training the machine learning models to generate recommendations for users of the shopping site.\n",
    "\n",
    "- [Action] I collaborated with data engineering to gain access to the required data and started training a baseline model with XGBoost. In the process, I identified new data sources that would be beneficial to the models, and in the end, I iterated on two types of models: one that performed better on newer users and one for existing users.\n",
    "\n",
    "- [Result] The models were run online and compared against a control group in an online experiment. In the end, the ML-powered approach gained a 2x lift in engagement metrics over the baseline control group.\n",
    "\n"
   ]
  },
  {
   "cell_type": "markdown",
   "metadata": {},
   "source": []
  }
 ],
 "metadata": {
  "language_info": {
   "name": "python"
  }
 },
 "nbformat": 4,
 "nbformat_minor": 2
}
